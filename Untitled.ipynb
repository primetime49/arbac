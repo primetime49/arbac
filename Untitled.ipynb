{
 "cells": [
  {
   "cell_type": "code",
   "execution_count": 13,
   "id": "ecd98741",
   "metadata": {},
   "outputs": [
    {
     "name": "stdout",
     "output_type": "stream",
     "text": [
      "policy number? 2\n",
      "Processing...\n",
      "user0\n",
      "user1\n",
      "user2\n",
      "user5\n",
      "user6\n",
      "We got a cycle!\n",
      "Exiting the code...\n",
      "Time elapsed: 0.1027 seconds\n",
      "Done!\n"
     ]
    }
   ],
   "source": [
    "## import copy\n",
    "import time\n",
    "import multiprocessing\n",
    "\n",
    "def read_bracket(br):\n",
    "    res = br[1:-1].split(',')\n",
    "    return res\n",
    "\n",
    "def read_reqs(reqs):\n",
    "    if reqs == 'TRUE':\n",
    "        return ([],[])\n",
    "    else:\n",
    "        pos = []\n",
    "        neg = []\n",
    "        reqs = reqs.split('&')\n",
    "        for r in reqs:\n",
    "            if r[0] == '-':\n",
    "                neg.append(r[1:])\n",
    "            else:\n",
    "                pos.append(r)\n",
    "        return(pos,neg)\n",
    "\n",
    "def contains(big,small):\n",
    "    for s in small:\n",
    "        if s not in big:\n",
    "            return False\n",
    "    return True\n",
    "\n",
    "def not_contains(big,small):\n",
    "    for s in small:\n",
    "        if s in big:\n",
    "            return False\n",
    "    return True\n",
    "\n",
    "def find_assigned(target):\n",
    "    res = []\n",
    "    for c in ca:\n",
    "        if target in ca[c]:\n",
    "            res.append((c,ca[c][target]))\n",
    "    return res\n",
    "\n",
    "inp = input('policy number? ')\n",
    "file1 = open('policy'+str(inp)+'.arbac', 'r')\n",
    "lines = file1.readlines()\n",
    "\n",
    "roles = lines[0].split(' ')[1:-1]\n",
    "users = lines[2].split(' ')[1:-1]\n",
    "ua = lines[4].split(' ')[1:-1]\n",
    "cr = lines[6].split(' ')[1:-1]\n",
    "ca = lines[8].split(' ')[1:-1]\n",
    "goal = lines[10].split(' ')[1:-1][0]\n",
    "\n",
    "user_role = dict()\n",
    "for u in users:\n",
    "    user_role[u] = []\n",
    "\n",
    "for n in ua:\n",
    "    name,role = read_bracket(n)\n",
    "    user_role[name].append(role)\n",
    "\n",
    "tmp = dict()\n",
    "for n in ca:\n",
    "    src,reqs,dst = read_bracket(n)\n",
    "    if src in tmp:\n",
    "        tmp[src][dst] = read_reqs(reqs)\n",
    "    else:\n",
    "        tmp[src] = dict()\n",
    "        tmp[src][dst] = read_reqs(reqs)\n",
    "ca = tmp\n",
    "\n",
    "tmp = dict()\n",
    "for n in cr:\n",
    "    src,dst = read_bracket(n)\n",
    "    if src in tmp:\n",
    "        tmp[src].append(dst)\n",
    "    else:\n",
    "        tmp[src] = []\n",
    "        tmp[src].append(dst)\n",
    "cr = tmp\n",
    "\n",
    "s = dict()\n",
    "for u in user_role:\n",
    "    for a in user_role[u]:\n",
    "        s[a] = ''\n",
    "changed = True\n",
    "while changed:\n",
    "    changed = False\n",
    "    for src in ca:\n",
    "        for dst in ca[src]:\n",
    "            if contains(s,ca[src][dst][0]+[src]):\n",
    "                if dst not in s:\n",
    "                    s[dst] = ''\n",
    "                    changed = True\n",
    "                \n",
    "rs = []\n",
    "for r in roles:\n",
    "    if r not in s:\n",
    "        rs.append(r)\n",
    "\n",
    "s = dict()\n",
    "s['target'] = ''\n",
    "\n",
    "changed = True\n",
    "while changed:\n",
    "    changed = False\n",
    "    add = []\n",
    "    for si in s:\n",
    "        for f in find_assigned(si):\n",
    "            add += [f[0]] + f[1][0] + f[1][1]\n",
    "    for a in add:\n",
    "        if a not in s:\n",
    "            s[a] = ''\n",
    "            changed = True\n",
    "\n",
    "for r in roles:\n",
    "    if r not in s:\n",
    "        rs.append(r)\n",
    "\n",
    "rem = []\n",
    "remm = []\n",
    "\n",
    "for src in ca:\n",
    "    for dst in ca[src]:\n",
    "        if dst in rs:\n",
    "            rem.append((src,dst))\n",
    "\n",
    "for r in rem:\n",
    "    del(ca[r[0]][r[1]])\n",
    "\n",
    "for src in ca:\n",
    "    if len(ca[src]) == 0:\n",
    "        remm.append(src)\n",
    "        \n",
    "for r in remm:\n",
    "    del(ca[r])\n",
    "    \n",
    "\n",
    "rem = []\n",
    "remm = []\n",
    "\n",
    "for src in cr:\n",
    "    for dst in cr[src]:\n",
    "        if dst in rs:\n",
    "            rem.append((src,dst))\n",
    "\n",
    "for r in rem:\n",
    "    cr[r[0]].remove(r[1])\n",
    "\n",
    "for src in cr:\n",
    "    if len(cr[src]) == 0:\n",
    "        remm.append(src)\n",
    "        \n",
    "for r in remm:\n",
    "    del(cr[r])\n",
    "    \n",
    "for r in rs:\n",
    "    roles.remove(r)\n",
    "    \n",
    "rem = []\n",
    "remm = []\n",
    "for u in user_role:\n",
    "    for r in user_role[u]:\n",
    "        if r in rs:\n",
    "            rem.append((u,r))\n",
    "for r in rem:\n",
    "    user_role[r[0]].remove(r[1])\n",
    "\n",
    "for u in user_role:\n",
    "    if len(user_role[u]) == 0:\n",
    "        remm.append(u)\n",
    "        \n",
    "for r in remm:\n",
    "    del(user_role[r])\n",
    "    \n",
    "visited = dict()\n",
    "for u in user_role:\n",
    "    visited[u] = dict()\n",
    "    for r in roles:\n",
    "        visited[u][r] = False\n",
    "\n",
    "print('Processing...')\n",
    "def analyzer(ur,ctr):\n",
    "    for user in ur:\n",
    "        if (ctr == 0):\n",
    "            print(user)\n",
    "        for i in range(len(ur[user])):\n",
    "            ra = ur[user][i]\n",
    "            for u in ur:\n",
    "                if ra in ca:\n",
    "                    for rt in ca[ra]:\n",
    "                        if contains(ur[u],ca[ra][rt][0]) and not_contains(ur[u],ca[ra][rt][1]):\n",
    "                            if rt not in ur[u]:\n",
    "                                if rt == goal:\n",
    "                                    return True\n",
    "                                old = copy.deepcopy(ur)\n",
    "                                ur[u].append(rt)\n",
    "                                if analyzer(ur,1) == True:\n",
    "                                    return True\n",
    "                                ur = old\n",
    "                if ra in cr:\n",
    "                    for rt in cr[ra]:\n",
    "                        if rt in ur[u]:\n",
    "                            old = copy.deepcopy(ur)\n",
    "                            ur[u].remove(rt)\n",
    "                            if analyzer(ur,1) == True:\n",
    "                                return True\n",
    "                            ur = old\n",
    "                            \n",
    "\n",
    "def main():        \n",
    "    start = time.time()\n",
    "    try:\n",
    "        if analyzer(copy.deepcopy(user_role),0) == True:\n",
    "            print('Got result!')\n",
    "            print('1')\n",
    "        else:\n",
    "            print('Got result!')\n",
    "            print('0')\n",
    "    except RecursionError:\n",
    "        print('We got a cycle!')\n",
    "        print('Exiting the code...')\n",
    "    print(\"Time elapsed: {} seconds\".format(round(time.time() - start,4)))\n",
    "\n",
    "p = multiprocessing.Process(target=main, name=\"Main\", args=())\n",
    "p.start()\n",
    "\n",
    "# Wait 10 seconds for foo\n",
    "time.sleep(10)\n",
    "\n",
    "# Terminate foo\n",
    "p.terminate()\n",
    "\n",
    "# Cleanup\n",
    "p.join()\n",
    "print('Done!')"
   ]
  },
  {
   "cell_type": "code",
   "execution_count": 186,
   "id": "17ed22d9",
   "metadata": {
    "scrolled": true
   },
   "outputs": [
    {
     "data": {
      "text/plain": [
       "{'user0': ['Admin'],\n",
       " 'user1': ['Doctor'],\n",
       " 'user2': ['Doctor'],\n",
       " 'user5': ['Doctor'],\n",
       " 'user6': ['Manager'],\n",
       " 'user9': ['Receptionist']}"
      ]
     },
     "execution_count": 186,
     "metadata": {},
     "output_type": "execute_result"
    }
   ],
   "source": [
    "user_role"
   ]
  },
  {
   "cell_type": "code",
   "execution_count": 3,
   "id": "2151cb97",
   "metadata": {},
   "outputs": [
    {
     "data": {
      "text/plain": [
       "['Doctor',\n",
       " 'Manager',\n",
       " 'Patient',\n",
       " 'PrimaryDoctor',\n",
       " 'Receptionist',\n",
       " 'target',\n",
       " 'Admin']"
      ]
     },
     "execution_count": 3,
     "metadata": {},
     "output_type": "execute_result"
    }
   ],
   "source": [
    "roles"
   ]
  },
  {
   "cell_type": "code",
   "execution_count": 172,
   "id": "282dcc26",
   "metadata": {},
   "outputs": [
    {
     "data": {
      "text/plain": [
       "{'Admin': {'target': (['PrimaryDoctor', 'Patient'], [])},\n",
       " 'Manager': {'Receptionist': ([], ['Doctor']),\n",
       "  'Doctor': ([], ['Receptionist'])},\n",
       " 'Patient': {'PrimaryDoctor': (['Doctor'], ['Patient'])},\n",
       " 'Receptionist': {'Patient': ([], ['PrimaryDoctor'])}}"
      ]
     },
     "execution_count": 172,
     "metadata": {},
     "output_type": "execute_result"
    }
   ],
   "source": [
    "ca"
   ]
  },
  {
   "cell_type": "code",
   "execution_count": 165,
   "id": "9c5a8f40",
   "metadata": {
    "scrolled": true
   },
   "outputs": [
    {
     "data": {
      "text/plain": [
       "{'user0': ['Admin'],\n",
       " 'user1': ['Doctor'],\n",
       " 'user2': ['Doctor'],\n",
       " 'user5': ['Doctor', 'PrimaryDoctor'],\n",
       " 'user6': ['Manager'],\n",
       " 'user7': ['Patient'],\n",
       " 'user8': ['Patient'],\n",
       " 'user9': ['Receptionist']}"
      ]
     },
     "execution_count": 165,
     "metadata": {},
     "output_type": "execute_result"
    }
   ],
   "source": [
    "user_role"
   ]
  },
  {
   "cell_type": "code",
   "execution_count": 179,
   "id": "fd200d15",
   "metadata": {},
   "outputs": [
    {
     "data": {
      "text/plain": [
       "{'Manager': ['Receptionist', 'Doctor']}"
      ]
     },
     "execution_count": 179,
     "metadata": {},
     "output_type": "execute_result"
    }
   ],
   "source": [
    "cr"
   ]
  },
  {
   "cell_type": "code",
   "execution_count": 46,
   "id": "8c7d74d8",
   "metadata": {},
   "outputs": [
    {
     "name": "stdout",
     "output_type": "stream",
     "text": [
      "user1\n",
      "['Doctor', 'Patient', 'target']\n"
     ]
    }
   ],
   "source": [
    "def analyzer(user, role, user_role):\n",
    "    if role == goal:\n",
    "        return '1'\n",
    "    for ra in ca:\n",
    "        if ra == role and visited[user][role] == False:\n",
    "            for u in user_role:\n",
    "                for rt in ca[ra]:\n",
    "                    #print(rt)\n",
    "                    if u != user and contains(user_role[u],ca[ra][rt][0]) and not_contains(user_role[u],ca[ra][rt][1]):\n",
    "                        if visited[u][rt] == False and rt not in user_role[u]:\n",
    "                            print('aa')\n",
    "                            old = copy.deepcopy(user_role)\n",
    "                            user_role[u].append(rt)\n",
    "                            analyzer(u,rt, user_role)\n",
    "                            user_role = old\n",
    "                            visited[u][rt] = True\n",
    "    #return '0'\n",
    "\n",
    "for u in user_role:\n",
    "    for r in range(len(user_role[u])):\n",
    "        if analyzer(u,user_role[u][r], user_role) == '1':\n",
    "            print(u)\n",
    "            print(user_role[u])\n",
    "            break"
   ]
  },
  {
   "cell_type": "code",
   "execution_count": 42,
   "id": "1d050f9a",
   "metadata": {},
   "outputs": [
    {
     "data": {
      "text/plain": [
       "{'user0': ['Admin', 'Receptionist', 'Patient'],\n",
       " 'user1': ['Doctor', 'Patient'],\n",
       " 'user2': ['Doctor', 'PrimaryDoctor'],\n",
       " 'user5': ['Doctor', 'PrimaryDoctor'],\n",
       " 'user6': ['Manager'],\n",
       " 'user7': ['Patient', 'Receptionist'],\n",
       " 'user8': ['Patient'],\n",
       " 'user9': ['Receptionist']}"
      ]
     },
     "execution_count": 42,
     "metadata": {},
     "output_type": "execute_result"
    }
   ],
   "source": [
    "user_role"
   ]
  },
  {
   "cell_type": "code",
   "execution_count": 39,
   "id": "c0a3889d",
   "metadata": {
    "scrolled": true
   },
   "outputs": [
    {
     "data": {
      "text/plain": [
       "{'user0': {'Doctor': False,\n",
       "  'Manager': False,\n",
       "  'Patient': False,\n",
       "  'PrimaryDoctor': False,\n",
       "  'Receptionist': False,\n",
       "  'target': False,\n",
       "  'Admin': False},\n",
       " 'user1': {'Doctor': False,\n",
       "  'Manager': False,\n",
       "  'Patient': False,\n",
       "  'PrimaryDoctor': False,\n",
       "  'Receptionist': False,\n",
       "  'target': False,\n",
       "  'Admin': False},\n",
       " 'user2': {'Doctor': False,\n",
       "  'Manager': False,\n",
       "  'Patient': False,\n",
       "  'PrimaryDoctor': False,\n",
       "  'Receptionist': False,\n",
       "  'target': False,\n",
       "  'Admin': False},\n",
       " 'user5': {'Doctor': False,\n",
       "  'Manager': False,\n",
       "  'Patient': False,\n",
       "  'PrimaryDoctor': False,\n",
       "  'Receptionist': False,\n",
       "  'target': False,\n",
       "  'Admin': False},\n",
       " 'user6': {'Doctor': False,\n",
       "  'Manager': False,\n",
       "  'Patient': False,\n",
       "  'PrimaryDoctor': False,\n",
       "  'Receptionist': False,\n",
       "  'target': False,\n",
       "  'Admin': False},\n",
       " 'user7': {'Doctor': False,\n",
       "  'Manager': False,\n",
       "  'Patient': False,\n",
       "  'PrimaryDoctor': False,\n",
       "  'Receptionist': False,\n",
       "  'target': False,\n",
       "  'Admin': False},\n",
       " 'user8': {'Doctor': False,\n",
       "  'Manager': False,\n",
       "  'Patient': False,\n",
       "  'PrimaryDoctor': False,\n",
       "  'Receptionist': False,\n",
       "  'target': False,\n",
       "  'Admin': False},\n",
       " 'user9': {'Doctor': False,\n",
       "  'Manager': False,\n",
       "  'Patient': False,\n",
       "  'PrimaryDoctor': False,\n",
       "  'Receptionist': False,\n",
       "  'target': False,\n",
       "  'Admin': False}}"
      ]
     },
     "execution_count": 39,
     "metadata": {},
     "output_type": "execute_result"
    }
   ],
   "source": [
    "visited = dict()\n",
    "for u in user_role:\n",
    "    visited[u] = dict()\n",
    "    for r in roles:\n",
    "        visited[u][r] = False\n",
    "visited"
   ]
  },
  {
   "cell_type": "code",
   "execution_count": 30,
   "id": "45dda06e",
   "metadata": {},
   "outputs": [
    {
     "data": {
      "text/plain": [
       "{'user0': {'Admin': False},\n",
       " 'user1': {'Doctor': False},\n",
       " 'user2': {'Doctor': False},\n",
       " 'user5': {'Doctor': False, 'PrimaryDoctor': False},\n",
       " 'user6': {'Manager': False},\n",
       " 'user7': {'Patient': False},\n",
       " 'user8': {'Patient': False},\n",
       " 'user9': {'Receptionist': False}}"
      ]
     },
     "execution_count": 30,
     "metadata": {},
     "output_type": "execute_result"
    }
   ],
   "source": [
    "visited"
   ]
  }
 ],
 "metadata": {
  "kernelspec": {
   "display_name": "Python 3 (ipykernel)",
   "language": "python",
   "name": "python3"
  },
  "language_info": {
   "codemirror_mode": {
    "name": "ipython",
    "version": 3
   },
   "file_extension": ".py",
   "mimetype": "text/x-python",
   "name": "python",
   "nbconvert_exporter": "python",
   "pygments_lexer": "ipython3",
   "version": "3.8.10"
  }
 },
 "nbformat": 4,
 "nbformat_minor": 5
}
