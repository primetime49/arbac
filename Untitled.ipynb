{
 "cells": [
  {
   "cell_type": "code",
   "execution_count": 253,
   "id": "72125c60",
   "metadata": {
    "scrolled": true
   },
   "outputs": [
    {
     "data": {
      "text/plain": [
       "'target'"
      ]
     },
     "execution_count": 253,
     "metadata": {},
     "output_type": "execute_result"
    }
   ],
   "source": [
    "file1 = open('policy7.arbac', 'r')\n",
    "lines = file1.readlines()\n",
    "\n",
    "roles = lines[0].split(' ')[1:-1]\n",
    "users = lines[2].split(' ')[1:-1]\n",
    "ua = lines[4].split(' ')[1:-1]\n",
    "cr = lines[6].split(' ')[1:-1]\n",
    "ca = lines[8].split(' ')[1:-1]\n",
    "goal = lines[10].split(' ')[1:-1][0]\n",
    "\n",
    "user_role = dict()\n",
    "for u in users:\n",
    "    user_role[u] = []\n",
    "\n",
    "for n in ua:\n",
    "    name,role = read_bracket(n)\n",
    "    user_role[name].append(role)\n",
    "\n",
    "tmp = dict()\n",
    "for n in ca:\n",
    "    src,reqs,dst = read_bracket(n)\n",
    "    if src in tmp:\n",
    "        tmp[src][dst] = read_reqs(reqs)\n",
    "    else:\n",
    "        tmp[src] = dict()\n",
    "        tmp[src][dst] = read_reqs(reqs)\n",
    "ca = tmp\n",
    "\n",
    "tmp = dict()\n",
    "for n in cr:\n",
    "    src,dst = read_bracket(n)\n",
    "    if src in tmp:\n",
    "        tmp[src].append(dst)\n",
    "    else:\n",
    "        tmp[src] = []\n",
    "        tmp[src].append(dst)\n",
    "cr = tmp\n",
    "\n",
    "goal"
   ]
  },
  {
   "cell_type": "code",
   "execution_count": 21,
   "id": "2151cb97",
   "metadata": {},
   "outputs": [],
   "source": [
    "def read_bracket(br):\n",
    "    res = br[1:-1].split(',')\n",
    "    return res"
   ]
  },
  {
   "cell_type": "code",
   "execution_count": 32,
   "id": "282dcc26",
   "metadata": {},
   "outputs": [],
   "source": [
    "def read_reqs(reqs):\n",
    "    if reqs == 'TRUE':\n",
    "        return ([],[])\n",
    "    else:\n",
    "        pos = []\n",
    "        neg = []\n",
    "        reqs = reqs.split('&')\n",
    "        for r in reqs:\n",
    "            if r[0] == '-':\n",
    "                neg.append(r[1:])\n",
    "            else:\n",
    "                pos.append(r)\n",
    "        return(pos,neg)"
   ]
  },
  {
   "cell_type": "code",
   "execution_count": 254,
   "id": "9c5a8f40",
   "metadata": {
    "scrolled": true
   },
   "outputs": [
    {
     "data": {
      "text/plain": [
       "['Agent',\n",
       " 'Doctor',\n",
       " 'Employee',\n",
       " 'Patient',\n",
       " 'PatientWithTPC',\n",
       " 'PrimaryDoctor',\n",
       " 'Receptionist',\n",
       " 'ReferredDoctor',\n",
       " 'ThirdParty']"
      ]
     },
     "execution_count": 254,
     "metadata": {},
     "output_type": "execute_result"
    }
   ],
   "source": [
    "s = dict()\n",
    "for u in user_role:\n",
    "    for a in user_role[u]:\n",
    "        s[a] = ''\n",
    "changed = True\n",
    "while changed:\n",
    "    changed = False\n",
    "    for src in ca:\n",
    "        for dst in ca[src]:\n",
    "            if contains(s,ca[src][dst][0]+[src]):\n",
    "                if dst not in s:\n",
    "                    s[dst] = ''\n",
    "                    changed = True\n",
    "                \n",
    "rs = []\n",
    "for r in roles:\n",
    "    if r not in s:\n",
    "        rs.append(r)\n",
    "\n",
    "s = dict()\n",
    "s['target'] = ''\n",
    "\n",
    "changed = True\n",
    "while changed:\n",
    "    changed = False\n",
    "    add = []\n",
    "    for si in s:\n",
    "        for f in find_assigned(si):\n",
    "            add += [f[0]] + f[1][0] + f[1][1]\n",
    "    for a in add:\n",
    "        if a not in s:\n",
    "            s[a] = ''\n",
    "            changed = True\n",
    "\n",
    "for r in roles:\n",
    "    if r not in s:\n",
    "        rs.append(r)\n",
    "\n",
    "rs"
   ]
  },
  {
   "cell_type": "code",
   "execution_count": 255,
   "id": "99696e70",
   "metadata": {},
   "outputs": [],
   "source": [
    "rem = []\n",
    "remm = []\n",
    "\n",
    "for src in ca:\n",
    "    for dst in ca[src]:\n",
    "        if dst in rs:\n",
    "            rem.append((src,dst))\n",
    "\n",
    "for r in rem:\n",
    "    del(ca[r[0]][r[1]])\n",
    "\n",
    "for src in ca:\n",
    "    if len(ca[src]) == 0:\n",
    "        remm.append(src)\n",
    "        \n",
    "for r in remm:\n",
    "    del(ca[r])\n",
    "    \n",
    "\n",
    "rem = []\n",
    "remm = []\n",
    "\n",
    "for src in cr:\n",
    "    for dst in cr[src]:\n",
    "        if dst in rs:\n",
    "            rem.append((src,dst))\n",
    "\n",
    "for r in rem:\n",
    "    cr[r[0]].remove(r[1])\n",
    "\n",
    "for src in cr:\n",
    "    if len(cr[src]) == 0:\n",
    "        remm.append(src)\n",
    "        \n",
    "for r in remm:\n",
    "    del(cr[r])\n",
    "    \n",
    "for r in rs:\n",
    "    roles.remove(r)\n",
    "    \n",
    "rem = []\n",
    "remm = []\n",
    "for u in user_role:\n",
    "    for r in user_role[u]:\n",
    "        if r in rs:\n",
    "            rem.append((u,r))\n",
    "for r in rem:\n",
    "    user_role[r[0]].remove(r[1])\n",
    "\n",
    "for u in user_role:\n",
    "    if len(user_role[u]) == 0:\n",
    "        remm.append(u)\n",
    "        \n",
    "for r in remm:\n",
    "    del(user_role[r])"
   ]
  },
  {
   "cell_type": "code",
   "execution_count": 256,
   "id": "8d709556",
   "metadata": {},
   "outputs": [
    {
     "data": {
      "text/plain": [
       "{'Admin': {'target': (['MedicalTeam'], [])},\n",
       " 'Manager': {'MedicalManager': ([], [])},\n",
       " 'MedicalManager': {'MedicalTeam': (['Nurse'], [])}}"
      ]
     },
     "execution_count": 256,
     "metadata": {},
     "output_type": "execute_result"
    }
   ],
   "source": [
    "ca"
   ]
  },
  {
   "cell_type": "code",
   "execution_count": 257,
   "id": "a5d033df",
   "metadata": {},
   "outputs": [
    {
     "data": {
      "text/plain": [
       "{'user0': ['Admin'],\n",
       " 'user3': ['Nurse'],\n",
       " 'user4': ['Nurse'],\n",
       " 'user6': ['Manager']}"
      ]
     },
     "execution_count": 257,
     "metadata": {},
     "output_type": "execute_result"
    }
   ],
   "source": [
    "user_role"
   ]
  },
  {
   "cell_type": "code",
   "execution_count": 252,
   "id": "fd200d15",
   "metadata": {},
   "outputs": [
    {
     "data": {
      "text/plain": [
       "{}"
      ]
     },
     "execution_count": 252,
     "metadata": {},
     "output_type": "execute_result"
    }
   ],
   "source": [
    "cr"
   ]
  },
  {
   "cell_type": "code",
   "execution_count": null,
   "id": "8c7d74d8",
   "metadata": {},
   "outputs": [],
   "source": [
    "def analyzer(ra):\n",
    "    for rt in user_role:\n",
    "        "
   ]
  },
  {
   "cell_type": "code",
   "execution_count": 133,
   "id": "a7bc8da2",
   "metadata": {},
   "outputs": [],
   "source": [
    "def contains(big,small):\n",
    "    for s in small:\n",
    "        if s not in big:\n",
    "            return False\n",
    "    return True"
   ]
  },
  {
   "cell_type": "code",
   "execution_count": 258,
   "id": "d9d40c8e",
   "metadata": {},
   "outputs": [],
   "source": [
    "def find_assigned(target):\n",
    "    res = []\n",
    "    for c in ca:\n",
    "        if target in ca[c]:\n",
    "            res.append((c,ca[c][target]))\n",
    "    return res\n"
   ]
  },
  {
   "cell_type": "code",
   "execution_count": 218,
   "id": "45dda06e",
   "metadata": {},
   "outputs": [
    {
     "data": {
      "text/plain": [
       "[('Doctor', ([], []))]"
      ]
     },
     "execution_count": 218,
     "metadata": {},
     "output_type": "execute_result"
    }
   ],
   "source": [
    "find_assigned('ThirdParty')"
   ]
  }
 ],
 "metadata": {
  "kernelspec": {
   "display_name": "Python 3 (ipykernel)",
   "language": "python",
   "name": "python3"
  },
  "language_info": {
   "codemirror_mode": {
    "name": "ipython",
    "version": 3
   },
   "file_extension": ".py",
   "mimetype": "text/x-python",
   "name": "python",
   "nbconvert_exporter": "python",
   "pygments_lexer": "ipython3",
   "version": "3.8.10"
  }
 },
 "nbformat": 4,
 "nbformat_minor": 5
}
